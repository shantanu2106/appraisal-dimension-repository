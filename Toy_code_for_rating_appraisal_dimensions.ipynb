{
  "nbformat": 4,
  "nbformat_minor": 0,
  "metadata": {
    "colab": {
      "provenance": [],
      "authorship_tag": "ABX9TyNVS2xVNR75okg0DEsLAD/g",
      "include_colab_link": true
    },
    "kernelspec": {
      "name": "python3",
      "display_name": "Python 3"
    },
    "language_info": {
      "name": "python"
    }
  },
  "cells": [
    {
      "cell_type": "markdown",
      "metadata": {
        "id": "view-in-github",
        "colab_type": "text"
      },
      "source": [
        "<a href=\"https://colab.research.google.com/github/shantanu2106/appraisal-dimension-repository/blob/main/Toy_code_for_rating_appraisal_dimensions.ipynb\" target=\"_parent\"><img src=\"https://colab.research.google.com/assets/colab-badge.svg\" alt=\"Open In Colab\"/></a>"
      ]
    },
    {
      "cell_type": "markdown",
      "source": [
        "Importing Packages"
      ],
      "metadata": {
        "id": "iIWKHbcRntGK"
      }
    },
    {
      "cell_type": "code",
      "execution_count": 44,
      "metadata": {
        "colab": {
          "base_uri": "https://localhost:8080/"
        },
        "id": "PcJvyuJvJrbQ",
        "outputId": "f0489796-320c-498b-9953-62a560e3790e"
      },
      "outputs": [
        {
          "output_type": "stream",
          "name": "stderr",
          "text": [
            "[nltk_data] Downloading package stopwords to /root/nltk_data...\n",
            "[nltk_data]   Unzipping corpora/stopwords.zip.\n"
          ]
        }
      ],
      "source": [
        "import re\n",
        "import pandas as pd\n",
        "import numpy as np\n",
        "import torch\n",
        "from sentence_transformers import SentenceTransformer\n",
        "import random\n",
        "import nltk\n",
        "nltk.download('stopwords')\n",
        "from nltk.corpus import stopwords"
      ]
    },
    {
      "cell_type": "markdown",
      "source": [
        "Setting Reproduceability seeds and stopwords"
      ],
      "metadata": {
        "id": "ESC_wrUhnznc"
      }
    },
    {
      "cell_type": "code",
      "source": [
        "# Set seeds for reproducibility\n",
        "import random\n",
        "random.seed(42)\n",
        "np.random.seed(42)\n",
        "torch.manual_seed(42)\n",
        "if torch.cuda.is_available():\n",
        "    torch.cuda.manual_seed_all(42)\n",
        "torch.use_deterministic_algorithms(True)\n",
        "\n",
        "# Define stopwords set\n",
        "stop_words = set(stopwords.words('english'))"
      ],
      "metadata": {
        "id": "jNpE9UW7MwLU"
      },
      "execution_count": 45,
      "outputs": []
    },
    {
      "cell_type": "markdown",
      "source": [
        "Toy appraisal anchors for mapping phrases with relavent dimensions"
      ],
      "metadata": {
        "id": "JLJYk8c6n4GY"
      }
    },
    {
      "cell_type": "code",
      "source": [
        "# Example dimension anchor phrases (toy example):\n",
        "# In practice, select these from established literature on appraisal theory.\n",
        "appraisal_anchors = {\n",
        "    'Certainty': [\"it is certain\", \"without any doubt\", \"clearly defined goals\"],\n",
        "    'Pleasantness': [\"a pleasant outlook\", \"enjoyable growth\", \"optimistic atmosphere\"],\n",
        "    'Goal Significance': [\"crucial for our objectives\", \"important for our strategy\", \"key to future success\"],\n",
        "    'Control': [\"we have control over\", \"manageable situation\", \"well within our influence\"],\n",
        "    'Responsibility': [\"we take responsibility\", \"accountable for these outcomes\", \"we bear the burden\"]\n",
        "    # Add additional dimensions and phrases as needed\n",
        "}\n",
        "\n",
        "dimensions = list(appraisal_anchors.keys())\n"
      ],
      "metadata": {
        "id": "_umwYS7UJxIh"
      },
      "execution_count": 46,
      "outputs": []
    },
    {
      "cell_type": "markdown",
      "source": [
        "Initiation of Sentence Transformer model"
      ],
      "metadata": {
        "id": "TD0xHZvvoE0F"
      }
    },
    {
      "cell_type": "code",
      "source": [
        "# Load a sentence-level embedding model (Sentence-BERT)\n",
        "model = SentenceTransformer('sentence-transformers/all-MiniLM-L6-v2')  # A compact, efficient model\n"
      ],
      "metadata": {
        "id": "Anqtdp2QJ3bF"
      },
      "execution_count": 47,
      "outputs": []
    },
    {
      "cell_type": "markdown",
      "source": [
        "Defining function of preprosessing using Regular Expressions"
      ],
      "metadata": {
        "id": "_XBW1oz7oISL"
      }
    },
    {
      "cell_type": "code",
      "source": [
        "def load_document_sentences(filepath):\n",
        "    with open(filepath, 'r', encoding='utf-8') as f:\n",
        "        text = f.read()\n",
        "    # Basic sentence splitting\n",
        "    sentences = re.split(r'[.?!]\\s+', text.strip())\n",
        "    sentences = [s.strip() for s in sentences if s.strip()]\n",
        "    return sentences"
      ],
      "metadata": {
        "id": "qQ6w_kk2J8ow"
      },
      "execution_count": 48,
      "outputs": []
    },
    {
      "cell_type": "markdown",
      "source": [
        "Defining function for transforming similarities of anchor phrases with uploaded document"
      ],
      "metadata": {
        "id": "sPJc_gwCoSeE"
      }
    },
    {
      "cell_type": "code",
      "source": [
        "# ----------------------------------------------------\n",
        "# Convert similarities to ratings\n",
        "# Similarity is in [-1, 1]; we map this linearly to [1, 10].\n",
        "def similarity(a, b):\n",
        "    return np.dot(a, b) / (np.linalg.norm(a)*np.linalg.norm(b))"
      ],
      "metadata": {
        "id": "cflfpwjSJ_PH"
      },
      "execution_count": 49,
      "outputs": []
    },
    {
      "cell_type": "markdown",
      "source": [
        "Defining function from similarity to ratings"
      ],
      "metadata": {
        "id": "zV6XwxEtogkS"
      }
    },
    {
      "cell_type": "code",
      "source": [
        "# Weighted aggregation of ratings:\n",
        "# We'll weight each sentence's rating contribution by its similarity.\n",
        "# If sim is high, that sentence has a bigger influence on the final rating.\n",
        "def similarity_to_rating(sim):\n",
        "    # sim=-1 => 1, sim=1 => 5\n",
        "    rating = 1 + (sim + 1)*2  # linear mapping\n",
        "    return round(rating, 2)"
      ],
      "metadata": {
        "id": "UyuTXweSKBiE"
      },
      "execution_count": 50,
      "outputs": []
    },
    {
      "cell_type": "markdown",
      "source": [
        "Defining function for finding the weighted average to aggregate final ratings for documents"
      ],
      "metadata": {
        "id": "3tGu0HKsoxRz"
      }
    },
    {
      "cell_type": "code",
      "source": [
        "def weighted_average(values, weights):\n",
        "    if np.sum(weights) == 0:\n",
        "        return np.round(np.mean(values), 2) if len(values) > 0 else 3.00\n",
        "    return round(np.sum(values * weights) / np.sum(weights), 2)"
      ],
      "metadata": {
        "id": "1ClEILnWNLRQ"
      },
      "execution_count": 51,
      "outputs": []
    },
    {
      "cell_type": "markdown",
      "source": [
        "Defining function for finding keywords in sentence that matches the anchor phrases set before"
      ],
      "metadata": {
        "id": "X1eV85jRo6Sq"
      }
    },
    {
      "cell_type": "code",
      "source": [
        "# Find the keyword in the sentence that best matches the chosen anchor phrase\n",
        "def find_best_keyword_in_sentence(sentence, anchor_phrase_embed, model, stop_words):\n",
        "    # Tokenize the sentence into words\n",
        "    words = re.findall(r'\\w+', sentence)\n",
        "    filtered_words = [w for w in words if w not in stop_words and len(w) > 2]\n",
        "    if not words:\n",
        "        return None, None\n",
        "\n",
        "  # Encode each filtered word\n",
        "    word_embeddings = model.encode(filtered_words, convert_to_numpy=True)\n",
        "\n",
        "    # Compute similarity of each word with the anchor phrase embedding\n",
        "    best_sim = -1\n",
        "    best_word = None\n",
        "    for w, w_embed in zip(filtered_words, word_embeddings):\n",
        "        sim = similarity(w_embed, anchor_phrase_embed)\n",
        "        if sim > best_sim:\n",
        "            best_sim = sim\n",
        "            best_word = w\n",
        "\n",
        "    return best_word, round(best_sim, 5)"
      ],
      "metadata": {
        "id": "XcvnPBrVPG6y"
      },
      "execution_count": 52,
      "outputs": []
    },
    {
      "cell_type": "markdown",
      "source": [
        "Running the main script with all the defined functions"
      ],
      "metadata": {
        "id": "6QRyF-SgpL9U"
      }
    },
    {
      "cell_type": "code",
      "source": [
        "if __name__ == \"__main__\":\n",
        "    # Replace 'input_document.txt' with your actual file\n",
        "    input_file = 'input_document.txt'\n",
        "\n",
        "    sentences = load_document_sentences(input_file)\n",
        "    sentence_embeddings = model.encode(sentences, convert_to_numpy=True)\n",
        "\n",
        "    # Precompute anchor embeddings for each phrase\n",
        "    anchor_phrase_embeddings = {dim: model.encode(phrases, convert_to_numpy=True)\n",
        "                                for dim, phrases in appraisal_anchors.items()}\n",
        "\n",
        "    rows = []\n",
        "    for i, sent in enumerate(sentences):\n",
        "        sent_embed = sentence_embeddings[i]\n",
        "        for dim in dimensions:\n",
        "            # Find best anchor phrase for this sentence-dimension\n",
        "            phrases = appraisal_anchors[dim]\n",
        "            p_embeds = anchor_phrase_embeddings[dim]\n",
        "\n",
        "            best_sim = -1\n",
        "            best_phrase = None\n",
        "            best_phrase_embed = None\n",
        "            for p_idx, p_embed in enumerate(p_embeds):\n",
        "                sim = similarity(sent_embed, p_embed)\n",
        "                if sim > best_sim:\n",
        "                    best_sim = sim\n",
        "                    best_phrase = phrases[p_idx]\n",
        "                    best_phrase_embed = p_embed\n",
        "\n",
        "            rating = similarity_to_rating(best_sim)\n",
        "\n",
        "            # Find best keyword in the sentence after stopword removal\n",
        "            best_word, word_sim = find_best_keyword_in_sentence(sent, best_phrase_embed, model, stop_words)\n",
        "\n",
        "            rows.append({\n",
        "                'Sentence': sent,\n",
        "                'Dimension': dim,\n",
        "                'Best_Anchor_Phrase': best_phrase,\n",
        "                'Best_Keyword_in_Sentence': best_word if best_word else \"\",\n",
        "                'Keyword_Similarity_to_Anchor': word_sim if word_sim is not None else None,\n",
        "                'Sentence_Similarity': round(best_sim, 5),\n",
        "                'Sentence_Rating': rating\n",
        "            })\n",
        "\n",
        "    df = pd.DataFrame(rows)\n",
        "\n",
        "    # Aggregate final ratings per dimension using weighted average by Sentence_Similarity\n",
        "    final_results = []\n",
        "    for dim in dimensions:\n",
        "        dim_data = df[df['Dimension'] == dim]\n",
        "        sims = dim_data['Sentence_Similarity'].values\n",
        "        ratings = dim_data['Sentence_Rating'].values\n",
        "        final_rating = weighted_average(ratings, sims)\n",
        "        final_results.append({\n",
        "            'Dimension': dim,\n",
        "            'Final_Rating': final_rating\n",
        "        })\n",
        "\n",
        "    final_df = pd.DataFrame(final_results)\n",
        "\n",
        "    # Print out all the sentences analyzed\n",
        "    print(\"Detailed Sentence-Level Analysis:\")\n",
        "    print(df.to_string(index=False))\n",
        "\n",
        "\n",
        "    print(\"\\nFinal Aggregated Ratings:\")\n",
        "    print(final_df.to_string(index=False))\n",
        ""
      ],
      "metadata": {
        "colab": {
          "base_uri": "https://localhost:8080/"
        },
        "id": "JmiL0nUNKCSr",
        "outputId": "664c40c3-0db9-4aa5-d088-3fa6e3e2e474"
      },
      "execution_count": 59,
      "outputs": [
        {
          "output_type": "stream",
          "name": "stdout",
          "text": [
            "Detailed Sentence-Level Analysis:\n",
            "                                                                                                                                                                                                                                                                                           Sentence         Dimension             Best_Anchor_Phrase Best_Keyword_in_Sentence  Keyword_Similarity_to_Anchor  Sentence_Similarity  Sentence_Rating\n",
            "                                                                                                                                                                                                                                 I will next provide a market, technology and manufacturing outlook         Certainty          clearly defined goals               technology                       0.20114              0.10048             3.20\n",
            "                                                                                                                                                                                                                                 I will next provide a market, technology and manufacturing outlook      Pleasantness             a pleasant outlook                  outlook                       0.34795              0.30150             3.60\n",
            "                                                                                                                                                                                                                                 I will next provide a market, technology and manufacturing outlook Goal Significance          key to future success               technology                       0.38381              0.45098             3.90\n",
            "                                                                                                                                                                                                                                 I will next provide a market, technology and manufacturing outlook           Control      well within our influence                  provide                       0.29260              0.19803             3.40\n",
            "                                                                                                                                                                                                                                 I will next provide a market, technology and manufacturing outlook    Responsibility accountable for these outcomes                  provide                       0.29076              0.19660             3.39\n",
            "                                                                                                                                           While we are monitoring the near-term impacts of solar procurement, the catalysts for driving increased utility-scale solar penetration continue to grow         Certainty          clearly defined goals                  utility                       0.26748             -0.00044             3.00\n",
            "                                                                                                                                           While we are monitoring the near-term impacts of solar procurement, the catalysts for driving increased utility-scale solar penetration continue to grow      Pleasantness               enjoyable growth                     grow                       0.64046              0.12352             3.25\n",
            "                                                                                                                                           While we are monitoring the near-term impacts of solar procurement, the catalysts for driving increased utility-scale solar penetration continue to grow Goal Significance     crucial for our objectives                  utility                       0.38687              0.17327             3.35\n",
            "                                                                                                                                           While we are monitoring the near-term impacts of solar procurement, the catalysts for driving increased utility-scale solar penetration continue to grow           Control           we have control over                 continue                       0.32199              0.19322             3.39\n",
            "                                                                                                                                           While we are monitoring the near-term impacts of solar procurement, the catalysts for driving increased utility-scale solar penetration continue to grow    Responsibility accountable for these outcomes                  impacts                       0.32319              0.08149             3.16\n",
            "                                                                                                                                            Firstly, in many markets, new-build utility-scale solar is economically competitive with fossil fuel generation on both a total and marginal cost basis         Certainty                  it is certain                     many                       0.30874              0.00489             3.01\n",
            "                                                                                                                                            Firstly, in many markets, new-build utility-scale solar is economically competitive with fossil fuel generation on both a total and marginal cost basis      Pleasantness               enjoyable growth               generation                       0.43318              0.13390             3.27\n",
            "                                                                                                                                            Firstly, in many markets, new-build utility-scale solar is economically competitive with fossil fuel generation on both a total and marginal cost basis Goal Significance     crucial for our objectives                  utility                       0.38687              0.12069             3.24\n",
            "                                                                                                                                            Firstly, in many markets, new-build utility-scale solar is economically competitive with fossil fuel generation on both a total and marginal cost basis           Control           we have control over               generation                       0.29307              0.01616             3.03\n",
            "                                                                                                                                            Firstly, in many markets, new-build utility-scale solar is economically competitive with fossil fuel generation on both a total and marginal cost basis    Responsibility             we bear the burden                    basis                       0.23365              0.04496             3.09\n",
            "                                                                                                                                                                                                                                                             In fact, at the start of 2020, the U.S         Certainty              without any doubt                     2020                       0.18446              0.13142             3.26\n",
            "                                                                                                                                                                                                                                                             In fact, at the start of 2020, the U.S      Pleasantness             a pleasant outlook                     2020                       0.23367              0.11056             3.22\n",
            "                                                                                                                                                                                                                                                             In fact, at the start of 2020, the U.S Goal Significance     important for our strategy                    start                       0.23875              0.21815             3.44\n",
            "                                                                                                                                                                                                                                                             In fact, at the start of 2020, the U.S           Control           we have control over                     2020                       0.23279              0.18785             3.38\n",
            "                                                                                                                                                                                                                                                             In fact, at the start of 2020, the U.S    Responsibility         we take responsibility                     2020                       0.19361              0.15241             3.30\n",
            "                                                                                 Energy Information Administration estimated that the United States will see six gigawatts of uneconomical coal capacity decommissioned in 2020, while 13.5 gigawatts of new utility-scale solar would be installed         Certainty                  it is certain                      see                       0.28157              0.02878             3.06\n",
            "                                                                                 Energy Information Administration estimated that the United States will see six gigawatts of uneconomical coal capacity decommissioned in 2020, while 13.5 gigawatts of new utility-scale solar would be installed      Pleasantness          optimistic atmosphere                    solar                       0.33453              0.09694             3.19\n",
            "                                                                                 Energy Information Administration estimated that the United States will see six gigawatts of uneconomical coal capacity decommissioned in 2020, while 13.5 gigawatts of new utility-scale solar would be installed Goal Significance     crucial for our objectives                  utility                       0.38687              0.08103             3.16\n",
            "                                                                                 Energy Information Administration estimated that the United States will see six gigawatts of uneconomical coal capacity decommissioned in 2020, while 13.5 gigawatts of new utility-scale solar would be installed           Control           we have control over           Administration                       0.36494              0.05867             3.12\n",
            "                                                                                 Energy Information Administration estimated that the United States will see six gigawatts of uneconomical coal capacity decommissioned in 2020, while 13.5 gigawatts of new utility-scale solar would be installed    Responsibility             we bear the burden                     coal                       0.27113              0.12358             3.25\n",
            "                                                                                                                                                                                                                         Secondly, our technology's performance and reliability are well understood         Certainty          clearly defined goals              performance                       0.27874              0.21493             3.43\n",
            "                                                                                                                                                                                                                         Secondly, our technology's performance and reliability are well understood      Pleasantness          optimistic atmosphere              reliability                       0.29892              0.18544             3.37\n",
            "                                                                                                                                                                                                                         Secondly, our technology's performance and reliability are well understood Goal Significance     crucial for our objectives              performance                       0.38107              0.42240             3.84\n",
            "                                                                                                                                                                                                                         Secondly, our technology's performance and reliability are well understood           Control           manageable situation               technology                       0.35206              0.21335             3.43\n",
            "                                                                                                                                                                                                                         Secondly, our technology's performance and reliability are well understood    Responsibility         we take responsibility               technology                       0.28872              0.20358             3.41\n",
            "                                                                                                                              With over 600 gigawatts of cumulative capacity installed globally through the end of 2019, solar has transitioned from an alternative to a mainstream energy resource         Certainty                  it is certain               mainstream                       0.23113              0.06696             3.13\n",
            "                                                                                                                              With over 600 gigawatts of cumulative capacity installed globally through the end of 2019, solar has transitioned from an alternative to a mainstream energy resource      Pleasantness               enjoyable growth             transitioned                       0.33467              0.13989             3.28\n",
            "                                                                                                                              With over 600 gigawatts of cumulative capacity installed globally through the end of 2019, solar has transitioned from an alternative to a mainstream energy resource Goal Significance          key to future success             transitioned                       0.30007              0.10253             3.21\n",
            "                                                                                                                              With over 600 gigawatts of cumulative capacity installed globally through the end of 2019, solar has transitioned from an alternative to a mainstream energy resource           Control           we have control over                     With                       0.37292              0.06937             3.14\n",
            "                                                                                                                              With over 600 gigawatts of cumulative capacity installed globally through the end of 2019, solar has transitioned from an alternative to a mainstream energy resource    Responsibility             we bear the burden                     With                       0.27688              0.05748             3.11\n",
            "                                                                                                                                                               Finally, while solar experienced a period of significant expansion over the past decade, we are still in the early innings of growth         Certainty              without any doubt                    early                       0.23455              0.04838             3.10\n",
            "                                                                                                                                                               Finally, while solar experienced a period of significant expansion over the past decade, we are still in the early innings of growth      Pleasantness               enjoyable growth                   growth                       0.73533              0.33801             3.68\n",
            "                                                                                                                                                               Finally, while solar experienced a period of significant expansion over the past decade, we are still in the early innings of growth Goal Significance     important for our strategy              significant                       0.36122              0.15394             3.31\n",
            "                                                                                                                                                               Finally, while solar experienced a period of significant expansion over the past decade, we are still in the early innings of growth           Control           we have control over                  Finally                       0.28326              0.18871             3.38\n",
            "                                                                                                                                                               Finally, while solar experienced a period of significant expansion over the past decade, we are still in the early innings of growth    Responsibility             we bear the burden                  Finally                       0.25956              0.10352             3.21\n",
            "                                                                                                 Although United States has 80 times more solar installed today than it did a decade ago, the 77 gigawatts of installed solar capacity only accounts for 2% of the country's electricity generation         Certainty                  it is certain                 Although                       0.32554              0.09174             3.18\n",
            "                                                                                                 Although United States has 80 times more solar installed today than it did a decade ago, the 77 gigawatts of installed solar capacity only accounts for 2% of the country's electricity generation      Pleasantness               enjoyable growth               generation                       0.43318              0.08204             3.16\n",
            "                                                                                                 Although United States has 80 times more solar installed today than it did a decade ago, the 77 gigawatts of installed solar capacity only accounts for 2% of the country's electricity generation Goal Significance     crucial for our objectives               generation                       0.25794              0.05998             3.12\n",
            "                                                                                                 Although United States has 80 times more solar installed today than it did a decade ago, the 77 gigawatts of installed solar capacity only accounts for 2% of the country's electricity generation           Control           we have control over                   United                       0.35873              0.12270             3.25\n",
            "                                                                                                 Although United States has 80 times more solar installed today than it did a decade ago, the 77 gigawatts of installed solar capacity only accounts for 2% of the country's electricity generation    Responsibility             we bear the burden                   United                       0.25364              0.03477             3.07\n",
            "                                                                                                                          Against the backdrop of growth in demand for cleaner electricity and global commitments to achieve climate goals, we see significant runway for solar installation growth         Certainty          clearly defined goals                    goals                       0.76926              0.07037             3.14\n",
            "                                                                                                                          Against the backdrop of growth in demand for cleaner electricity and global commitments to achieve climate goals, we see significant runway for solar installation growth      Pleasantness               enjoyable growth                   growth                       0.73533              0.22371             3.45\n",
            "                                                                                                                          Against the backdrop of growth in demand for cleaner electricity and global commitments to achieve climate goals, we see significant runway for solar installation growth Goal Significance     crucial for our objectives                    goals                       0.50291              0.14466             3.29\n",
            "                                                                                                                          Against the backdrop of growth in demand for cleaner electricity and global commitments to achieve climate goals, we see significant runway for solar installation growth           Control           we have control over                  Against                       0.36480              0.04260             3.09\n",
            "                                                                                                                          Against the backdrop of growth in demand for cleaner electricity and global commitments to achieve climate goals, we see significant runway for solar installation growth    Responsibility         we take responsibility                    goals                       0.35506              0.09627             3.19\n",
            "                                                                                                                                                                                                      Our Series six capacity plan is well positioned to capture a rapidly growing global PV market         Certainty          clearly defined goals                     plan                       0.26335              0.13616             3.27\n",
            "                                                                                                                                                                                                      Our Series six capacity plan is well positioned to capture a rapidly growing global PV market      Pleasantness          optimistic atmosphere                  rapidly                       0.24278              0.20203             3.40\n",
            "                                                                                                                                                                                                      Our Series six capacity plan is well positioned to capture a rapidly growing global PV market Goal Significance     important for our strategy                     plan                       0.38020              0.31922             3.64\n",
            "                                                                                                                                                                                                      Our Series six capacity plan is well positioned to capture a rapidly growing global PV market           Control           we have control over                      Our                       0.46085              0.16683             3.33\n",
            "                                                                                                                                                                                                      Our Series six capacity plan is well positioned to capture a rapidly growing global PV market    Responsibility         we take responsibility                      Our                       0.47259              0.17944             3.36\n",
            "                                                                                                                                                                                      In this context, I would like to note that our long-term capacity expansion road map is essentially unchanged         Certainty          clearly defined goals                  context                       0.28279              0.19110             3.38\n",
            "                                                                                                                                                                                      In this context, I would like to note that our long-term capacity expansion road map is essentially unchanged      Pleasantness               enjoyable growth                expansion                       0.35659              0.25988             3.52\n",
            "                                                                                                                                                                                      In this context, I would like to note that our long-term capacity expansion road map is essentially unchanged Goal Significance     crucial for our objectives                  context                       0.28400              0.30003             3.60\n",
            "                                                                                                                                                                                      In this context, I would like to note that our long-term capacity expansion road map is essentially unchanged           Control           manageable situation                  context                       0.31068              0.19777             3.40\n",
            "                                                                                                                                                                                      In this context, I would like to note that our long-term capacity expansion road map is essentially unchanged    Responsibility accountable for these outcomes              essentially                       0.20829              0.15325             3.31\n",
            "                                                                                                                                                                                     To date, the only shift in production strategy is delaying the plan 2020 optimization of our Vietnam factories         Certainty          clearly defined goals                 strategy                       0.42225              0.16367             3.33\n",
            "                                                                                                                                                                                     To date, the only shift in production strategy is delaying the plan 2020 optimization of our Vietnam factories      Pleasantness          optimistic atmosphere                 delaying                       0.29878              0.18979             3.38\n",
            "                                                                                                                                                                                     To date, the only shift in production strategy is delaying the plan 2020 optimization of our Vietnam factories Goal Significance     important for our strategy                 strategy                       0.72699              0.30639             3.61\n",
            "                                                                                                                                                                                     To date, the only shift in production strategy is delaying the plan 2020 optimization of our Vietnam factories           Control           manageable situation                 strategy                       0.44133              0.24047             3.48\n",
            "                                                                                                                                                                                     To date, the only shift in production strategy is delaying the plan 2020 optimization of our Vietnam factories    Responsibility         we take responsibility                 strategy                       0.36169              0.10689             3.21\n",
            "                                                                                                                                                                 This elective decision reduces downtime in 2020, and we expect this will partially offset underutilization of our Ohio two factory         Certainty                  it is certain                 decision                       0.35699              0.15694             3.31\n",
            "                                                                                                                                                                 This elective decision reduces downtime in 2020, and we expect this will partially offset underutilization of our Ohio two factory      Pleasantness          optimistic atmosphere                   expect                       0.32281              0.14137             3.28\n",
            "                                                                                                                                                                 This elective decision reduces downtime in 2020, and we expect this will partially offset underutilization of our Ohio two factory Goal Significance     crucial for our objectives                 decision                       0.32836              0.17879             3.36\n",
            "                                                                                                                                                                 This elective decision reduces downtime in 2020, and we expect this will partially offset underutilization of our Ohio two factory           Control           we have control over                 decision                       0.32195              0.19061             3.38\n",
            "                                                                                                                                                                 This elective decision reduces downtime in 2020, and we expect this will partially offset underutilization of our Ohio two factory    Responsibility accountable for these outcomes                 decision                       0.27371              0.20828             3.42\n",
            "                                                                                                                                                                                                   Shifting to our technology road map, our long-term technology road map remains unchanged to date         Certainty          clearly defined goals                     term                       0.24849              0.12783             3.26\n",
            "                                                                                                                                                                                                   Shifting to our technology road map, our long-term technology road map remains unchanged to date      Pleasantness             a pleasant outlook               technology                       0.25356              0.14161             3.28\n",
            "                                                                                                                                                                                                   Shifting to our technology road map, our long-term technology road map remains unchanged to date Goal Significance          key to future success               technology                       0.38381              0.33027             3.66\n",
            "                                                                                                                                                                                                   Shifting to our technology road map, our long-term technology road map remains unchanged to date           Control           manageable situation               technology                       0.35206              0.16113             3.32\n",
            "                                                                                                                                                                                                   Shifting to our technology road map, our long-term technology road map remains unchanged to date    Responsibility             we bear the burden                  remains                       0.25536              0.12904             3.26\n",
            "                                                                                                                           However, as operational limitations at our advanced research lab in Santa Clara, California, continue for an extended period, the timing of this road map may be delayed         Certainty          clearly defined goals              operational                       0.23757              0.04753             3.10\n",
            "                                                                                                                           However, as operational limitations at our advanced research lab in Santa Clara, California, continue for an extended period, the timing of this road map may be delayed      Pleasantness          optimistic atmosphere              operational                       0.30976              0.13324             3.27\n",
            "                                                                                                                           However, as operational limitations at our advanced research lab in Santa Clara, California, continue for an extended period, the timing of this road map may be delayed Goal Significance          key to future success                 research                       0.38080              0.19049             3.38\n",
            "                                                                                                                           However, as operational limitations at our advanced research lab in Santa Clara, California, continue for an extended period, the timing of this road map may be delayed           Control           manageable situation              operational                       0.43578              0.16331             3.33\n",
            "                                                                                                                           However, as operational limitations at our advanced research lab in Santa Clara, California, continue for an extended period, the timing of this road map may be delayed    Responsibility accountable for these outcomes                   timing                       0.20589              0.11326             3.23\n",
            "                                                                                                  As the only U.S.-based company among the 10 largest PV module manufacturers globally, we are committed to manufacturing and diversifying our supply chain in the United States and supporting U.S         Certainty                  it is certain                    based                       0.22349              0.06955             3.14\n",
            "                                                                                                  As the only U.S.-based company among the 10 largest PV module manufacturers globally, we are committed to manufacturing and diversifying our supply chain in the United States and supporting U.S      Pleasantness          optimistic atmosphere             diversifying                       0.28922              0.12267             3.25\n",
            "                                                                                                  As the only U.S.-based company among the 10 largest PV module manufacturers globally, we are committed to manufacturing and diversifying our supply chain in the United States and supporting U.S Goal Significance     important for our strategy             diversifying                       0.38454              0.25491             3.51\n",
            "                                                                                                  As the only U.S.-based company among the 10 largest PV module manufacturers globally, we are committed to manufacturing and diversifying our supply chain in the United States and supporting U.S           Control           we have control over                   United                       0.35873              0.21920             3.44\n",
            "                                                                                                  As the only U.S.-based company among the 10 largest PV module manufacturers globally, we are committed to manufacturing and diversifying our supply chain in the United States and supporting U.S    Responsibility         we take responsibility               supporting                       0.34404              0.28667             3.57\n",
            "                                                                                                                                                                                                                                               manufacturing jobs within First Solar and externally         Certainty                  it is certain                   within                       0.20175              0.04368             3.09\n",
            "                                                                                                                                                                                                                                               manufacturing jobs within First Solar and externally      Pleasantness               enjoyable growth                     jobs                       0.28963              0.12278             3.25\n",
            "                                                                                                                                                                                                                                               manufacturing jobs within First Solar and externally Goal Significance          key to future success                     jobs                       0.32102              0.12523             3.25\n",
            "                                                                                                                                                                                                                                               manufacturing jobs within First Solar and externally           Control           manageable situation                     jobs                       0.36616              0.12749             3.25\n",
            "                                                                                                                                                                                                                                               manufacturing jobs within First Solar and externally    Responsibility             we bear the burden                     jobs                       0.22049              0.04758             3.10\n",
            "                                                                                       A good example of this commitment is a supply agreement with a glass provider that enable the construction of a new glass-float facility approximately 10 miles from our Perrysburg, Ohio manufacturing site         Certainty                  it is certain            approximately                       0.35667              0.14808             3.30\n",
            "                                                                                       A good example of this commitment is a supply agreement with a glass provider that enable the construction of a new glass-float facility approximately 10 miles from our Perrysburg, Ohio manufacturing site      Pleasantness          optimistic atmosphere               commitment                       0.28453              0.14166             3.28\n",
            "                                                                                       A good example of this commitment is a supply agreement with a glass provider that enable the construction of a new glass-float facility approximately 10 miles from our Perrysburg, Ohio manufacturing site Goal Significance     crucial for our objectives             construction                       0.34232              0.18277             3.37\n",
            "                                                                                       A good example of this commitment is a supply agreement with a glass provider that enable the construction of a new glass-float facility approximately 10 miles from our Perrysburg, Ohio manufacturing site           Control           manageable situation               commitment                       0.47036              0.23569             3.47\n",
            "                                                                                       A good example of this commitment is a supply agreement with a glass provider that enable the construction of a new glass-float facility approximately 10 miles from our Perrysburg, Ohio manufacturing site    Responsibility         we take responsibility                agreement                       0.35681              0.22065             3.44\n",
            "On a similar note, we are pleased with the decision in April of the office of the United States Trade Representative supporting the removal of the exclusion of bifaced solar panels from the Section 201 safeguard measures and are monitoring the resolution of the related litigation in the U.S         Certainty                  it is certain                 decision                       0.35699              0.13296             3.27\n",
            "On a similar note, we are pleased with the decision in April of the office of the United States Trade Representative supporting the removal of the exclusion of bifaced solar panels from the Section 201 safeguard measures and are monitoring the resolution of the related litigation in the U.S      Pleasantness          optimistic atmosphere                    solar                       0.33453              0.15484             3.31\n",
            "On a similar note, we are pleased with the decision in April of the office of the United States Trade Representative supporting the removal of the exclusion of bifaced solar panels from the Section 201 safeguard measures and are monitoring the resolution of the related litigation in the U.S Goal Significance     important for our strategy                 decision                       0.34137              0.17147             3.34\n",
            "On a similar note, we are pleased with the decision in April of the office of the United States Trade Representative supporting the removal of the exclusion of bifaced solar panels from the Section 201 safeguard measures and are monitoring the resolution of the related litigation in the U.S           Control           we have control over                safeguard                       0.41605              0.17242             3.34\n",
            "On a similar note, we are pleased with the decision in April of the office of the United States Trade Representative supporting the removal of the exclusion of bifaced solar panels from the Section 201 safeguard measures and are monitoring the resolution of the related litigation in the U.S    Responsibility accountable for these outcomes           Representative                       0.31234              0.25693             3.51\n",
            "                                                                                                                                                                                                                                                                       Court of International Trade         Certainty                  it is certain                    Court                       0.15854              0.12414             3.25\n",
            "                                                                                                                                                                                                                                                                       Court of International Trade      Pleasantness             a pleasant outlook                    Trade                       0.22084              0.10504             3.21\n",
            "                                                                                                                                                                                                                                                                       Court of International Trade Goal Significance     important for our strategy            International                       0.14845              0.13514             3.27\n",
            "                                                                                                                                                                                                                                                                       Court of International Trade           Control      well within our influence            International                       0.20472              0.13948             3.28\n",
            "                                                                                                                                                                                                                                                                       Court of International Trade    Responsibility accountable for these outcomes                    Court                       0.26223              0.19695             3.39\n",
            "                                                                                                                                                                          While we have been able to contract through the iterations of the bifacial exemption, we believe this decision of the U.S         Certainty          clearly defined goals                 decision                       0.34294              0.13763             3.28\n",
            "                                                                                                                                                                          While we have been able to contract through the iterations of the bifacial exemption, we believe this decision of the U.S      Pleasantness             a pleasant outlook                 decision                       0.27856              0.03737             3.07\n",
            "                                                                                                                                                                          While we have been able to contract through the iterations of the bifacial exemption, we believe this decision of the U.S Goal Significance     crucial for our objectives                 decision                       0.32836              0.27211             3.54\n",
            "                                                                                                                                                                          While we have been able to contract through the iterations of the bifacial exemption, we believe this decision of the U.S           Control           we have control over                 decision                       0.32195              0.26330             3.53\n",
            "                                                                                                                                                                          While we have been able to contract through the iterations of the bifacial exemption, we believe this decision of the U.S    Responsibility accountable for these outcomes                exemption                       0.27827              0.28770             3.58\n",
            "                                                                                                                                                              Trade Representative is consistent with the underlying intent of Section 201 measures and helps promote a level playing field for U.S         Certainty          clearly defined goals                   intent                       0.40624              0.25540             3.51\n",
            "                                                                                                                                                              Trade Representative is consistent with the underlying intent of Section 201 measures and helps promote a level playing field for U.S      Pleasantness             a pleasant outlook                   intent                       0.30927              0.16895             3.34\n",
            "                                                                                                                                                              Trade Representative is consistent with the underlying intent of Section 201 measures and helps promote a level playing field for U.S Goal Significance     crucial for our objectives                   intent                       0.35413              0.32315             3.65\n",
            "                                                                                                                                                              Trade Representative is consistent with the underlying intent of Section 201 measures and helps promote a level playing field for U.S           Control      well within our influence                  promote                       0.37908              0.17517             3.35\n",
            "                                                                                                                                                              Trade Representative is consistent with the underlying intent of Section 201 measures and helps promote a level playing field for U.S    Responsibility accountable for these outcomes           Representative                       0.31234              0.25207             3.50\n",
            "                                                                                                                                                                                                                     solar manufacturing and innovation an environment of both free and fair trade.         Certainty                  it is certain                     fair                       0.30922              0.06708             3.13\n",
            "                                                                                                                                                                                                                     solar manufacturing and innovation an environment of both free and fair trade.      Pleasantness             a pleasant outlook              environment                       0.31851              0.14330             3.29\n",
            "                                                                                                                                                                                                                     solar manufacturing and innovation an environment of both free and fair trade. Goal Significance          key to future success               innovation                       0.41478              0.11189             3.22\n",
            "                                                                                                                                                                                                                     solar manufacturing and innovation an environment of both free and fair trade.           Control           we have control over               innovation                       0.26338              0.10490             3.21\n",
            "                                                                                                                                                                                                                     solar manufacturing and innovation an environment of both free and fair trade.    Responsibility             we bear the burden              environment                       0.23131              0.11417             3.23\n",
            "\n",
            "Final Aggregated Ratings:\n",
            "        Dimension  Final_Rating\n",
            "        Certainty          3.29\n",
            "     Pleasantness          3.37\n",
            "Goal Significance          3.53\n",
            "          Control          3.37\n",
            "   Responsibility          3.38\n"
          ]
        }
      ]
    }
  ]
}